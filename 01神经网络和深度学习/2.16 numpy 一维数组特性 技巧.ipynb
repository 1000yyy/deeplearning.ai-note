{
 "cells": [
  {
   "cell_type": "code",
   "execution_count": 2,
   "metadata": {},
   "outputs": [],
   "source": [
    "import numpy as np\n",
    "\n",
    "# numpy 缺点 功能过于强大，有可能会引入一些细微的错误\n",
    "\n",
    "a = np.random.randn(5)"
   ]
  },
  {
   "cell_type": "code",
   "execution_count": 3,
   "metadata": {},
   "outputs": [
    {
     "name": "stdout",
     "output_type": "stream",
     "text": [
      "[-0.98627146 -1.23678971 -0.67516662 -0.59265765 -0.14939574]\n"
     ]
    }
   ],
   "source": [
    "print(a)"
   ]
  },
  {
   "cell_type": "code",
   "execution_count": 4,
   "metadata": {},
   "outputs": [
    {
     "name": "stdout",
     "output_type": "stream",
     "text": [
      "(5,)\n"
     ]
    }
   ],
   "source": [
    "print(a.shape)"
   ]
  },
  {
   "cell_type": "code",
   "execution_count": 5,
   "metadata": {},
   "outputs": [
    {
     "name": "stdout",
     "output_type": "stream",
     "text": [
      "[-0.98627146 -1.23678971 -0.67516662 -0.59265765 -0.14939574]\n"
     ]
    }
   ],
   "source": [
    "print(a.T)"
   ]
  },
  {
   "cell_type": "code",
   "execution_count": 6,
   "metadata": {},
   "outputs": [
    {
     "name": "stdout",
     "output_type": "stream",
     "text": [
      "3.331792313940287\n"
     ]
    }
   ],
   "source": [
    "print(np.dot(a,a.T))"
   ]
  },
  {
   "cell_type": "code",
   "execution_count": 15,
   "metadata": {},
   "outputs": [
    {
     "name": "stdout",
     "output_type": "stream",
     "text": [
      "[[-0.05121293]\n",
      " [ 0.64789504]\n",
      " [-1.14744747]\n",
      " [ 0.88618272]\n",
      " [-1.80083669]]\n",
      "[[-0.05121293  0.64789504 -1.14744747  0.88618272 -1.80083669]]\n",
      "(5, 1)\n"
     ]
    }
   ],
   "source": [
    "a = np.random.randn(5,1)\n",
    "print(a)\n",
    "print(a.T)\n",
    "print(a.shape)"
   ]
  },
  {
   "cell_type": "code",
   "execution_count": 25,
   "metadata": {},
   "outputs": [
    {
     "name": "stdout",
     "output_type": "stream",
     "text": [
      "[[ 2.62276440e-03 -3.31806046e-02  5.87641492e-02 -4.53840151e-02\n",
      "   9.22261270e-02]\n",
      " [-3.31806046e-02  4.19767982e-01 -7.43425524e-01  5.74153386e-01\n",
      "  -1.16675316e+00]\n",
      " [ 5.87641492e-02 -7.43425524e-01  1.31663570e+00 -1.01684811e+00\n",
      "   2.06636551e+00]\n",
      " [-4.53840151e-02  5.74153386e-01 -1.01684811e+00  7.85319805e-01\n",
      "  -1.59587035e+00]\n",
      " [ 9.22261270e-02 -1.16675316e+00  2.06636551e+00 -1.59587035e+00\n",
      "   3.24301279e+00]]\n"
     ]
    }
   ],
   "source": [
    "print(np.dot(a,a.T))"
   ]
  },
  {
   "cell_type": "code",
   "execution_count": 32,
   "metadata": {},
   "outputs": [],
   "source": [
    "assert(a.shape==(5,1)) # 插入调试断点到程序\n",
    "# Assert statements are a convenient way to insert debugging assertions into a program:\n",
    "# assert语句是一种插入调试断点到程序的一种便捷的方式。"
   ]
  },
  {
   "cell_type": "code",
   "execution_count": 27,
   "metadata": {},
   "outputs": [
    {
     "name": "stdout",
     "output_type": "stream",
     "text": [
      "[[-0.05121293]\n",
      " [ 0.64789504]\n",
      " [-1.14744747]\n",
      " [ 0.88618272]\n",
      " [-1.80083669]]\n",
      "[[-0.05121293  0.64789504 -1.14744747  0.88618272 -1.80083669]]\n"
     ]
    }
   ],
   "source": [
    "print(a) # 列向量\n",
    "print(a.reshape(1,5))\n",
    "# print(a.reshape(1,4))"
   ]
  },
  {
   "cell_type": "code",
   "execution_count": null,
   "metadata": {},
   "outputs": [],
   "source": []
  },
  {
   "cell_type": "code",
   "execution_count": null,
   "metadata": {},
   "outputs": [],
   "source": []
  }
 ],
 "metadata": {
  "kernelspec": {
   "display_name": "Python 3",
   "language": "python",
   "name": "python3"
  },
  "language_info": {
   "codemirror_mode": {
    "name": "ipython",
    "version": 3
   },
   "file_extension": ".py",
   "mimetype": "text/x-python",
   "name": "python",
   "nbconvert_exporter": "python",
   "pygments_lexer": "ipython3",
   "version": "3.5.4"
  }
 },
 "nbformat": 4,
 "nbformat_minor": 2
}
