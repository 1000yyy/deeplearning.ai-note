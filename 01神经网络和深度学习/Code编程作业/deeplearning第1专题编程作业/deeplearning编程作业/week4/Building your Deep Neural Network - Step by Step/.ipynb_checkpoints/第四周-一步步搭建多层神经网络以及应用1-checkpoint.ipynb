{
 "cells": [
  {
   "cell_type": "markdown",
   "metadata": {},
   "source": [
    "Link:https://blog.csdn.net/u013733326/article/details/79767169"
   ]
  },
  {
   "cell_type": "markdown",
   "metadata": {},
   "source": [
    "本文学习完成后，希望你可以做到：\n",
    "\n",
    "1. 使用非线性映射单元（例如ReLU）去改善你的模型。\n",
    "\n",
    "2. 建立一个多个隐藏层的神经网络\n",
    "\n",
    "3. 创建一个易于调用的模型类"
   ]
  },
  {
   "cell_type": "code",
   "execution_count": null,
   "metadata": {},
   "outputs": [],
   "source": []
  }
 ],
 "metadata": {
  "kernelspec": {
   "display_name": "Python 3",
   "language": "python",
   "name": "python3"
  },
  "language_info": {
   "codemirror_mode": {
    "name": "ipython",
    "version": 3
   },
   "file_extension": ".py",
   "mimetype": "text/x-python",
   "name": "python",
   "nbconvert_exporter": "python",
   "pygments_lexer": "ipython3",
   "version": "3.5.4"
  }
 },
 "nbformat": 4,
 "nbformat_minor": 2
}
